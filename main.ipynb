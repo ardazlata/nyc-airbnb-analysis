{
 "cells": [
  {
   "cell_type": "code",
   "execution_count": null,
   "id": "initial_id",
   "metadata": {
    "collapsed": true
   },
   "outputs": [],
   "source": [
    "import pandas as pd\n",
    "import numpy as np\n",
    "import seaborn as sns\n",
    "sns.set(rc={'figure.figsize':(20, 10)})"
   ]
  },
  {
   "cell_type": "code",
   "execution_count": null,
   "outputs": [],
   "source": [
    "df = pd.read_csv(\"airbnb_nyc_final.csv\", delimiter=\",\", encoding=\"utf-8\")\n",
    "df.head()"
   ],
   "metadata": {
    "collapsed": false
   },
   "id": "255018df080bda3b"
  },
  {
   "cell_type": "code",
   "execution_count": null,
   "outputs": [],
   "source": [
    "df.shape"
   ],
   "metadata": {
    "collapsed": false
   },
   "id": "7da20860553cf8cf"
  },
  {
   "cell_type": "code",
   "execution_count": null,
   "outputs": [],
   "source": [
    "df.info()"
   ],
   "metadata": {
    "collapsed": false
   },
   "id": "cbdc6c9d8195572"
  },
  {
   "cell_type": "code",
   "execution_count": null,
   "outputs": [],
   "source": [
    "df.describe()"
   ],
   "metadata": {
    "collapsed": false
   },
   "id": "f4146f1fb8b697ea"
  },
  {
   "cell_type": "code",
   "execution_count": null,
   "outputs": [],
   "source": [
    "df.drop([\"name\", \"id\", \"host_id\", \"host_name\"], inplace=True, axis=1) # dropping the unnecessary columns \n",
    "df.head()"
   ],
   "metadata": {
    "collapsed": false
   },
   "id": "934c15007bb6cc78"
  },
  {
   "cell_type": "code",
   "execution_count": null,
   "outputs": [],
   "source": [
    "integers = [\"minimum_nights\",\"number_of_reviews\", \"calculated_host_listings_count\", \"availability_365\"]\n",
    "\n",
    "for column in integers:\n",
    "    df[column] = pd.to_numeric(df[column], errors=\"coerce\")\n",
    "\n",
    "    max_value = (3*df[column].std()) + df[column].mean()  # finds the max value that is not going to be called not an outlier\n",
    "    min_value = -((3*df[column].std()) + df[column].mean())  # finds the min value that is not going to be called not an outlier\n",
    "\n",
    "    mean = df.loc[(df[column] > min_value) & (df[column] < max_value), column].mean()  # calculate the new mean of the column without the outlier values\n",
    "\n",
    "    # if there is no outlier value then the mean will be np.nan in this situation don't need to do imputation\n",
    "    if mean is not np.nan:\n",
    "        df.loc[(df[column] < min_value) | (df[column] > max_value), column] = mean  # change outlier values with mean\n",
    "        df[column].fillna(mean, inplace=True)  # also fill nan values with mean\n",
    "    else:  # this condition means there is no outlier value in the column\n",
    "        df[column].fillna(df[column].mean(), inplace=True)  # just fill nan values with mean\n",
    "\n",
    "    df[column] = df[column].astype(\"int64\")  # the type will be converted to int64 "
   ],
   "metadata": {
    "collapsed": false
   },
   "id": "855e54aad3290768"
  },
  {
   "cell_type": "code",
   "execution_count": null,
   "outputs": [],
   "source": [
    "sns.histplot(df[\"price\"], kde=True)  #the x-axis's readibility is low, as there are string values in dataset"
   ],
   "metadata": {
    "collapsed": false
   },
   "id": "28bb8f98f28b81dd"
  },
  {
   "cell_type": "code",
   "execution_count": null,
   "outputs": [],
   "source": [
    "floats = [\"price\", \"reviews_per_month\", \"calculated_host_listings_count\", \"latitude\", \"longitude\"]\n",
    "\n",
    "for column in floats:\n",
    "    df[column] = pd.to_numeric(df[column], errors=\"coerce\")\n",
    "\n",
    "    max_value = (3*df[column].std()) + df[column].mean()  # finds the max value that is not going to be called not an outlier\n",
    "    min_value = -((3*df[column].std()) + df[column].mean())  # finds the min value that is not going to be called not an outlier\n",
    "\n",
    "    mean = df.loc[(df[column] > min_value) & (df[column] < max_value), column].mean()\n",
    "    if mean is not np.nan:\n",
    "        df.loc[(df[column] < min_value) | (df[column] > max_value), column] = mean  # change outlier values with mean\n",
    "        df[column].fillna(mean, inplace=True)  # also fill nan values with mean\n",
    "    else:\n",
    "        df[column].fillna(df[column].mean(), inplace=True)  # filling NA values with mean\n",
    "\n",
    "    df[column] = df[column].astype(\"float64\") #converting the type to int64"
   ],
   "metadata": {
    "collapsed": false
   },
   "id": "f915e49c28b35ec7"
  },
  {
   "cell_type": "code",
   "execution_count": null,
   "outputs": [],
   "source": [
    "sns.histplot(df[\"price\"], kde=True)\n"
   ],
   "metadata": {
    "collapsed": false
   },
   "id": "d113f0772b574341"
  },
  {
   "cell_type": "code",
   "execution_count": null,
   "outputs": [],
   "source": [
    "df.info()\n"
   ],
   "metadata": {
    "collapsed": false
   },
   "id": "a1e470db8ee6bec9"
  },
  {
   "cell_type": "code",
   "execution_count": null,
   "outputs": [],
   "source": [
    "df.groupby(\"room_type\")[\"room_type\"].value_counts()  # .value_counts() is used to see the values in column \"room_type\""
   ],
   "metadata": {
    "collapsed": false
   },
   "id": "eb188aa574a512f2"
  },
  {
   "cell_type": "code",
   "execution_count": null,
   "outputs": [],
   "source": [
    "for key, value in df.groupby(by=\"room_type\")[\"room_type\"].value_counts().items():  # the items that are so rare in the column will be changed to \"unknown_type\" \n",
    "    if value == 1:\n",
    "        df.loc[df[\"room_type\"]==key[0], \"room_type\"] = \"unknown_type\"  # assigning them as \"unknown_type\"\n",
    "\n",
    "df.groupby(by=\"room_type\")[\"room_type\"].value_counts()"
   ],
   "metadata": {
    "collapsed": false
   },
   "id": "29a3cbb52aeb2a5d"
  },
  {
   "cell_type": "code",
   "execution_count": null,
   "outputs": [],
   "source": [
    "df.isna().sum()  # prints the number of NA values for each column"
   ],
   "metadata": {
    "collapsed": false
   },
   "id": "5443e5f03868e0ab"
  },
  {
   "cell_type": "code",
   "execution_count": null,
   "outputs": [],
   "source": [
    "df.loc[df.isna()[\"date\"], \"date\"] = \"unknown_date\"  # assigning NAs of the date column to \"unknown_type\""
   ],
   "metadata": {
    "collapsed": false
   },
   "id": "8270c2d5c0e4c445"
  },
  {
   "cell_type": "code",
   "execution_count": null,
   "outputs": [],
   "source": [
    "df.isna().sum()"
   ],
   "metadata": {
    "collapsed": false
   },
   "id": "bca75ff3204f0c5d"
  },
  {
   "cell_type": "code",
   "execution_count": null,
   "outputs": [],
   "source": [
    "object_columns = df.select_dtypes(\"object\").columns\n",
    "object_columns"
   ],
   "metadata": {
    "collapsed": false
   },
   "id": "50366579236e6005"
  },
  {
   "cell_type": "code",
   "execution_count": null,
   "outputs": [],
   "source": [
    "for column in object_columns:\n",
    "    df[column] = df[column].astype(\"category\")  # converting the type of the columns to category"
   ],
   "metadata": {
    "collapsed": false
   },
   "id": "97909c1f6948e1b8"
  },
  {
   "cell_type": "code",
   "execution_count": null,
   "outputs": [],
   "source": [
    "df.info()"
   ],
   "metadata": {
    "collapsed": false
   },
   "id": "2bfc9de27582f528"
  },
  {
   "cell_type": "code",
   "execution_count": null,
   "outputs": [],
   "source": [
    "df.to_csv(\"airbnb_nyc_preprocessed.csv\")  # turns the dataframe into a csv "
   ],
   "metadata": {
    "collapsed": false
   },
   "id": "4a84e21b1925f5"
  }
 ],
 "metadata": {
  "kernelspec": {
   "display_name": "Python 3",
   "language": "python",
   "name": "python3"
  },
  "language_info": {
   "codemirror_mode": {
    "name": "ipython",
    "version": 2
   },
   "file_extension": ".py",
   "mimetype": "text/x-python",
   "name": "python",
   "nbconvert_exporter": "python",
   "pygments_lexer": "ipython2",
   "version": "2.7.6"
  }
 },
 "nbformat": 4,
 "nbformat_minor": 5
}
